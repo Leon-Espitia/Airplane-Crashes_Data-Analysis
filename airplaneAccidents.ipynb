{
 "cells": [
  {
   "cell_type": "code",
   "execution_count": 930,
   "metadata": {},
   "outputs": [],
   "source": [
    "import pandas as pd"
   ]
  },
  {
   "cell_type": "code",
   "execution_count": 931,
   "metadata": {},
   "outputs": [
    {
     "data": {
      "text/plain": [
       "(5008, 18)"
      ]
     },
     "execution_count": 931,
     "metadata": {},
     "output_type": "execute_result"
    }
   ],
   "source": [
    "df_plane = pd.read_csv('./AccidentesAviones.csv')\n",
    "df_plane.shape\n"
   ]
  },
  {
   "cell_type": "code",
   "execution_count": 932,
   "metadata": {},
   "outputs": [
    {
     "name": "stdout",
     "output_type": "stream",
     "text": [
      "<class 'pandas.core.frame.DataFrame'>\n",
      "RangeIndex: 5008 entries, 0 to 5007\n",
      "Data columns (total 18 columns):\n",
      " #   Column                  Non-Null Count  Dtype \n",
      "---  ------                  --------------  ----- \n",
      " 0   Unnamed: 0              5008 non-null   int64 \n",
      " 1   fecha                   5008 non-null   object\n",
      " 2   HORA declarada          5008 non-null   object\n",
      " 3   Ruta                    5008 non-null   object\n",
      " 4   OperadOR                5008 non-null   object\n",
      " 5   flight_no               5008 non-null   object\n",
      " 6   route                   5008 non-null   object\n",
      " 7   ac_type                 5008 non-null   object\n",
      " 8   registration            5008 non-null   object\n",
      " 9   cn_ln                   5008 non-null   object\n",
      " 10  all_aboard              5008 non-null   object\n",
      " 11  PASAJEROS A BORDO       5008 non-null   object\n",
      " 12  crew_aboard             5008 non-null   object\n",
      " 13  cantidad de fallecidos  5008 non-null   object\n",
      " 14  passenger_fatalities    5008 non-null   object\n",
      " 15  crew_fatalities         5008 non-null   object\n",
      " 16  ground                  5008 non-null   object\n",
      " 17  summary                 5008 non-null   object\n",
      "dtypes: int64(1), object(17)\n",
      "memory usage: 704.4+ KB\n"
     ]
    }
   ],
   "source": [
    "df_plane.info()"
   ]
  },
  {
   "cell_type": "code",
   "execution_count": 933,
   "metadata": {},
   "outputs": [
    {
     "data": {
      "text/html": [
       "<div>\n",
       "<style scoped>\n",
       "    .dataframe tbody tr th:only-of-type {\n",
       "        vertical-align: middle;\n",
       "    }\n",
       "\n",
       "    .dataframe tbody tr th {\n",
       "        vertical-align: top;\n",
       "    }\n",
       "\n",
       "    .dataframe thead th {\n",
       "        text-align: right;\n",
       "    }\n",
       "</style>\n",
       "<table border=\"1\" class=\"dataframe\">\n",
       "  <thead>\n",
       "    <tr style=\"text-align: right;\">\n",
       "      <th></th>\n",
       "      <th>Unnamed: 0</th>\n",
       "      <th>fecha</th>\n",
       "      <th>HORA declarada</th>\n",
       "      <th>Ruta</th>\n",
       "      <th>OperadOR</th>\n",
       "      <th>flight_no</th>\n",
       "      <th>route</th>\n",
       "      <th>ac_type</th>\n",
       "      <th>registration</th>\n",
       "      <th>cn_ln</th>\n",
       "      <th>all_aboard</th>\n",
       "      <th>PASAJEROS A BORDO</th>\n",
       "      <th>crew_aboard</th>\n",
       "      <th>cantidad de fallecidos</th>\n",
       "      <th>passenger_fatalities</th>\n",
       "      <th>crew_fatalities</th>\n",
       "      <th>ground</th>\n",
       "      <th>summary</th>\n",
       "    </tr>\n",
       "  </thead>\n",
       "  <tbody>\n",
       "    <tr>\n",
       "      <th>0</th>\n",
       "      <td>0</td>\n",
       "      <td>September 17, 1908</td>\n",
       "      <td>1718</td>\n",
       "      <td>Fort Myer, Virginia</td>\n",
       "      <td>Military - U.S. Army</td>\n",
       "      <td>?</td>\n",
       "      <td>Demonstration</td>\n",
       "      <td>Wright Flyer III</td>\n",
       "      <td>?</td>\n",
       "      <td>1</td>\n",
       "      <td>2</td>\n",
       "      <td>1</td>\n",
       "      <td>1</td>\n",
       "      <td>1</td>\n",
       "      <td>1</td>\n",
       "      <td>0</td>\n",
       "      <td>0</td>\n",
       "      <td>During a demonstration flight, a U.S. Army fly...</td>\n",
       "    </tr>\n",
       "    <tr>\n",
       "      <th>1</th>\n",
       "      <td>1</td>\n",
       "      <td>September 07, 1909</td>\n",
       "      <td>?</td>\n",
       "      <td>Juvisy-sur-Orge, France</td>\n",
       "      <td>?</td>\n",
       "      <td>?</td>\n",
       "      <td>Air show</td>\n",
       "      <td>Wright Byplane</td>\n",
       "      <td>SC1</td>\n",
       "      <td>?</td>\n",
       "      <td>1</td>\n",
       "      <td>0</td>\n",
       "      <td>1</td>\n",
       "      <td>1</td>\n",
       "      <td>0</td>\n",
       "      <td>0</td>\n",
       "      <td>0</td>\n",
       "      <td>Eugene Lefebvre was the first pilot to ever be...</td>\n",
       "    </tr>\n",
       "    <tr>\n",
       "      <th>2</th>\n",
       "      <td>2</td>\n",
       "      <td>July 12, 1912</td>\n",
       "      <td>0630</td>\n",
       "      <td>Atlantic City, New Jersey</td>\n",
       "      <td>Military - U.S. Navy</td>\n",
       "      <td>?</td>\n",
       "      <td>Test flight</td>\n",
       "      <td>Dirigible</td>\n",
       "      <td>?</td>\n",
       "      <td>?</td>\n",
       "      <td>5</td>\n",
       "      <td>0</td>\n",
       "      <td>5</td>\n",
       "      <td>5</td>\n",
       "      <td>0</td>\n",
       "      <td>5</td>\n",
       "      <td>0</td>\n",
       "      <td>First U.S. dirigible Akron exploded just offsh...</td>\n",
       "    </tr>\n",
       "  </tbody>\n",
       "</table>\n",
       "</div>"
      ],
      "text/plain": [
       "   Unnamed: 0               fecha HORA declarada                       Ruta  \\\n",
       "0           0  September 17, 1908           1718        Fort Myer, Virginia   \n",
       "1           1  September 07, 1909              ?    Juvisy-sur-Orge, France   \n",
       "2           2       July 12, 1912           0630  Atlantic City, New Jersey   \n",
       "\n",
       "               OperadOR flight_no          route           ac_type  \\\n",
       "0  Military - U.S. Army         ?  Demonstration  Wright Flyer III   \n",
       "1                     ?         ?       Air show    Wright Byplane   \n",
       "2  Military - U.S. Navy         ?    Test flight         Dirigible   \n",
       "\n",
       "  registration cn_ln all_aboard PASAJEROS A BORDO crew_aboard  \\\n",
       "0            ?     1          2                 1           1   \n",
       "1          SC1     ?          1                 0           1   \n",
       "2            ?     ?          5                 0           5   \n",
       "\n",
       "  cantidad de fallecidos passenger_fatalities crew_fatalities ground  \\\n",
       "0                      1                    1               0      0   \n",
       "1                      1                    0               0      0   \n",
       "2                      5                    0               5      0   \n",
       "\n",
       "                                             summary  \n",
       "0  During a demonstration flight, a U.S. Army fly...  \n",
       "1  Eugene Lefebvre was the first pilot to ever be...  \n",
       "2  First U.S. dirigible Akron exploded just offsh...  "
      ]
     },
     "execution_count": 933,
     "metadata": {},
     "output_type": "execute_result"
    }
   ],
   "source": [
    "df_plane.head(3)"
   ]
  },
  {
   "cell_type": "markdown",
   "metadata": {},
   "source": [
    "## EDA"
   ]
  },
  {
   "cell_type": "code",
   "execution_count": 934,
   "metadata": {},
   "outputs": [],
   "source": [
    "# Replacing values\n",
    "df_plane = df_plane.replace('?', 'NaN')"
   ]
  },
  {
   "cell_type": "markdown",
   "metadata": {},
   "source": [
    "Dropping columns"
   ]
  },
  {
   "cell_type": "code",
   "execution_count": 935,
   "metadata": {},
   "outputs": [
    {
     "data": {
      "text/plain": [
       "NaN     1504\n",
       "1500      35\n",
       "1400      30\n",
       "1100      30\n",
       "1700      29\n",
       "        ... \n",
       "2129       1\n",
       "1002       1\n",
       "1151       1\n",
       "0909       1\n",
       "1914       1\n",
       "Name: HORA declarada, Length: 1217, dtype: int64"
      ]
     },
     "execution_count": 935,
     "metadata": {},
     "output_type": "execute_result"
    }
   ],
   "source": [
    "# Checking column amount of 'NaN' values\n",
    "df_plane['HORA declarada'].value_counts()"
   ]
  },
  {
   "cell_type": "code",
   "execution_count": 936,
   "metadata": {},
   "outputs": [],
   "source": [
    "# Based on the previous column´s values analysis\n",
    "df_plane = df_plane.drop(columns='HORA declarada')"
   ]
  },
  {
   "cell_type": "code",
   "execution_count": 937,
   "metadata": {},
   "outputs": [
    {
     "data": {
      "text/plain": [
       "NaN      3682\n",
       "-          36\n",
       "1          11\n",
       "101         9\n",
       "6           7\n",
       "         ... \n",
       "138         1\n",
       "124         1\n",
       "1-10        1\n",
       "4422        1\n",
       "SJ182       1\n",
       "Name: flight_no, Length: 893, dtype: int64"
      ]
     },
     "execution_count": 937,
     "metadata": {},
     "output_type": "execute_result"
    }
   ],
   "source": [
    "# Checking column amount of 'NaN' values\n",
    "df_plane['flight_no'].value_counts()"
   ]
  },
  {
   "cell_type": "code",
   "execution_count": 938,
   "metadata": {},
   "outputs": [],
   "source": [
    "# Based on the previous column´s values analysis\n",
    "df_plane = df_plane.drop(columns='flight_no')"
   ]
  },
  {
   "cell_type": "code",
   "execution_count": 939,
   "metadata": {},
   "outputs": [],
   "source": [
    "# Delete this column because is highly related with 'Ruta'\n",
    "df_plane = df_plane.drop(columns='route')"
   ]
  },
  {
   "cell_type": "code",
   "execution_count": 940,
   "metadata": {},
   "outputs": [],
   "source": [
    "# Drop this column because is not relevant in my case of analysis\n",
    "df_plane = df_plane.drop(columns='registration')"
   ]
  },
  {
   "cell_type": "code",
   "execution_count": 941,
   "metadata": {},
   "outputs": [],
   "source": [
    "# Drop this column because is not relevant in my case of analysis\n",
    "df_plane = df_plane.drop(columns='cn_ln')"
   ]
  },
  {
   "cell_type": "code",
   "execution_count": 942,
   "metadata": {},
   "outputs": [],
   "source": [
    "# Drop this column because is not relevant in my case of analysis\n",
    "df_plane = df_plane.drop(columns='ground')"
   ]
  },
  {
   "cell_type": "code",
   "execution_count": 943,
   "metadata": {},
   "outputs": [],
   "source": [
    "# Delete 'crew_fatalities' rows when are = to 'NaN'\n",
    "df_plane.drop(df_plane[df_plane['crew_fatalities'] == 'NaN'].index, inplace=True)"
   ]
  },
  {
   "cell_type": "code",
   "execution_count": 944,
   "metadata": {},
   "outputs": [],
   "source": [
    "# Delete 'PASAJEROS A BORDO' rows when are = to 'NaN'\n",
    "df_plane.drop(df_plane[df_plane['PASAJEROS A BORDO'] == 'NaN'].index, inplace=True)"
   ]
  },
  {
   "cell_type": "code",
   "execution_count": 945,
   "metadata": {},
   "outputs": [],
   "source": [
    "# Delete 'PASAJEROS A BORDO' rows when are = to 'NaN'\n",
    "df_plane.drop(df_plane[df_plane['passenger_fatalities'] == 'NaN'].index, inplace=True)"
   ]
  },
  {
   "cell_type": "code",
   "execution_count": 946,
   "metadata": {},
   "outputs": [],
   "source": [
    "# Drop this column because is not relevant in my case of analysis\n",
    "df_plane = df_plane.drop(columns='summary')"
   ]
  },
  {
   "cell_type": "markdown",
   "metadata": {},
   "source": [
    "Changing data type"
   ]
  },
  {
   "cell_type": "code",
   "execution_count": 947,
   "metadata": {},
   "outputs": [],
   "source": [
    "# Switching column data type\n",
    "df_plane['fecha'] = pd.to_datetime(df_plane['fecha'])"
   ]
  },
  {
   "cell_type": "code",
   "execution_count": 948,
   "metadata": {},
   "outputs": [],
   "source": [
    "df_plane['fecha'] = df_plane['fecha'].dt.date"
   ]
  },
  {
   "cell_type": "code",
   "execution_count": 949,
   "metadata": {},
   "outputs": [],
   "source": [
    "# Switching column data type\n",
    "df_plane['Ruta'] =df_plane['Ruta'].astype('string')"
   ]
  },
  {
   "cell_type": "code",
   "execution_count": 950,
   "metadata": {},
   "outputs": [],
   "source": [
    "# Switching column data type\n",
    "df_plane['OperadOR'] =df_plane['OperadOR'].astype('string')"
   ]
  },
  {
   "cell_type": "code",
   "execution_count": 951,
   "metadata": {},
   "outputs": [],
   "source": [
    "df_plane['crew_aboard'] =df_plane['crew_aboard'].astype('string')"
   ]
  },
  {
   "cell_type": "code",
   "execution_count": 952,
   "metadata": {},
   "outputs": [
    {
     "data": {
      "text/html": [
       "<div>\n",
       "<style scoped>\n",
       "    .dataframe tbody tr th:only-of-type {\n",
       "        vertical-align: middle;\n",
       "    }\n",
       "\n",
       "    .dataframe tbody tr th {\n",
       "        vertical-align: top;\n",
       "    }\n",
       "\n",
       "    .dataframe thead th {\n",
       "        text-align: right;\n",
       "    }\n",
       "</style>\n",
       "<table border=\"1\" class=\"dataframe\">\n",
       "  <thead>\n",
       "    <tr style=\"text-align: right;\">\n",
       "      <th></th>\n",
       "      <th>Unnamed: 0</th>\n",
       "      <th>fecha</th>\n",
       "      <th>Ruta</th>\n",
       "      <th>OperadOR</th>\n",
       "      <th>ac_type</th>\n",
       "      <th>all_aboard</th>\n",
       "      <th>PASAJEROS A BORDO</th>\n",
       "      <th>crew_aboard</th>\n",
       "      <th>cantidad de fallecidos</th>\n",
       "      <th>passenger_fatalities</th>\n",
       "      <th>crew_fatalities</th>\n",
       "    </tr>\n",
       "  </thead>\n",
       "  <tbody>\n",
       "    <tr>\n",
       "      <th>0</th>\n",
       "      <td>0</td>\n",
       "      <td>1908-09-17</td>\n",
       "      <td>Fort Myer, Virginia</td>\n",
       "      <td>Military - U.S. Army</td>\n",
       "      <td>Wright Flyer III</td>\n",
       "      <td>2</td>\n",
       "      <td>1</td>\n",
       "      <td>1</td>\n",
       "      <td>1</td>\n",
       "      <td>1</td>\n",
       "      <td>0</td>\n",
       "    </tr>\n",
       "    <tr>\n",
       "      <th>1</th>\n",
       "      <td>1</td>\n",
       "      <td>1909-09-07</td>\n",
       "      <td>Juvisy-sur-Orge, France</td>\n",
       "      <td>NaN</td>\n",
       "      <td>Wright Byplane</td>\n",
       "      <td>1</td>\n",
       "      <td>0</td>\n",
       "      <td>1</td>\n",
       "      <td>1</td>\n",
       "      <td>0</td>\n",
       "      <td>0</td>\n",
       "    </tr>\n",
       "    <tr>\n",
       "      <th>2</th>\n",
       "      <td>2</td>\n",
       "      <td>1912-07-12</td>\n",
       "      <td>Atlantic City, New Jersey</td>\n",
       "      <td>Military - U.S. Navy</td>\n",
       "      <td>Dirigible</td>\n",
       "      <td>5</td>\n",
       "      <td>0</td>\n",
       "      <td>5</td>\n",
       "      <td>5</td>\n",
       "      <td>0</td>\n",
       "      <td>5</td>\n",
       "    </tr>\n",
       "  </tbody>\n",
       "</table>\n",
       "</div>"
      ],
      "text/plain": [
       "   Unnamed: 0       fecha                       Ruta              OperadOR  \\\n",
       "0           0  1908-09-17        Fort Myer, Virginia  Military - U.S. Army   \n",
       "1           1  1909-09-07    Juvisy-sur-Orge, France                   NaN   \n",
       "2           2  1912-07-12  Atlantic City, New Jersey  Military - U.S. Navy   \n",
       "\n",
       "            ac_type all_aboard PASAJEROS A BORDO crew_aboard  \\\n",
       "0  Wright Flyer III          2                 1           1   \n",
       "1    Wright Byplane          1                 0           1   \n",
       "2         Dirigible          5                 0           5   \n",
       "\n",
       "  cantidad de fallecidos passenger_fatalities crew_fatalities  \n",
       "0                      1                    1               0  \n",
       "1                      1                    0               0  \n",
       "2                      5                    0               5  "
      ]
     },
     "execution_count": 952,
     "metadata": {},
     "output_type": "execute_result"
    }
   ],
   "source": [
    "df_plane.head(3)"
   ]
  },
  {
   "cell_type": "code",
   "execution_count": 953,
   "metadata": {},
   "outputs": [],
   "source": [
    "# Parsing column data type\n",
    "df_plane['all_aboard'] = df_plane['all_aboard'].astype('string')"
   ]
  },
  {
   "cell_type": "code",
   "execution_count": 954,
   "metadata": {},
   "outputs": [
    {
     "data": {
      "text/plain": [
       "(4765, 11)"
      ]
     },
     "execution_count": 954,
     "metadata": {},
     "output_type": "execute_result"
    }
   ],
   "source": [
    "df_plane.shape"
   ]
  },
  {
   "cell_type": "code",
   "execution_count": 955,
   "metadata": {},
   "outputs": [
    {
     "name": "stdout",
     "output_type": "stream",
     "text": [
      "<class 'pandas.core.frame.DataFrame'>\n",
      "Int64Index: 4765 entries, 0 to 5007\n",
      "Data columns (total 11 columns):\n",
      " #   Column                  Non-Null Count  Dtype \n",
      "---  ------                  --------------  ----- \n",
      " 0   Unnamed: 0              4765 non-null   int64 \n",
      " 1   fecha                   4765 non-null   object\n",
      " 2   Ruta                    4765 non-null   string\n",
      " 3   OperadOR                4765 non-null   string\n",
      " 4   ac_type                 4765 non-null   object\n",
      " 5   all_aboard              4765 non-null   string\n",
      " 6   PASAJEROS A BORDO       4765 non-null   object\n",
      " 7   crew_aboard             4765 non-null   string\n",
      " 8   cantidad de fallecidos  4765 non-null   object\n",
      " 9   passenger_fatalities    4765 non-null   object\n",
      " 10  crew_fatalities         4765 non-null   object\n",
      "dtypes: int64(1), object(6), string(4)\n",
      "memory usage: 446.7+ KB\n"
     ]
    }
   ],
   "source": [
    "df_plane.info()"
   ]
  },
  {
   "cell_type": "code",
   "execution_count": 956,
   "metadata": {},
   "outputs": [
    {
     "data": {
      "text/html": [
       "<div>\n",
       "<style scoped>\n",
       "    .dataframe tbody tr th:only-of-type {\n",
       "        vertical-align: middle;\n",
       "    }\n",
       "\n",
       "    .dataframe tbody tr th {\n",
       "        vertical-align: top;\n",
       "    }\n",
       "\n",
       "    .dataframe thead th {\n",
       "        text-align: right;\n",
       "    }\n",
       "</style>\n",
       "<table border=\"1\" class=\"dataframe\">\n",
       "  <thead>\n",
       "    <tr style=\"text-align: right;\">\n",
       "      <th></th>\n",
       "      <th>crash_Id</th>\n",
       "      <th>date</th>\n",
       "      <th>route</th>\n",
       "      <th>operator</th>\n",
       "      <th>aircraft_type</th>\n",
       "      <th>all_aboard</th>\n",
       "      <th>passangers_onboard</th>\n",
       "      <th>crew_aboard</th>\n",
       "      <th>deaths_number</th>\n",
       "      <th>passenger_fatalities</th>\n",
       "      <th>crew_fatalities</th>\n",
       "    </tr>\n",
       "  </thead>\n",
       "  <tbody>\n",
       "    <tr>\n",
       "      <th>0</th>\n",
       "      <td>0</td>\n",
       "      <td>1908-09-17</td>\n",
       "      <td>Fort Myer, Virginia</td>\n",
       "      <td>Military - U.S. Army</td>\n",
       "      <td>Wright Flyer III</td>\n",
       "      <td>2</td>\n",
       "      <td>1</td>\n",
       "      <td>1</td>\n",
       "      <td>1</td>\n",
       "      <td>1</td>\n",
       "      <td>0</td>\n",
       "    </tr>\n",
       "    <tr>\n",
       "      <th>1</th>\n",
       "      <td>1</td>\n",
       "      <td>1909-09-07</td>\n",
       "      <td>Juvisy-sur-Orge, France</td>\n",
       "      <td>NaN</td>\n",
       "      <td>Wright Byplane</td>\n",
       "      <td>1</td>\n",
       "      <td>0</td>\n",
       "      <td>1</td>\n",
       "      <td>1</td>\n",
       "      <td>0</td>\n",
       "      <td>0</td>\n",
       "    </tr>\n",
       "    <tr>\n",
       "      <th>2</th>\n",
       "      <td>2</td>\n",
       "      <td>1912-07-12</td>\n",
       "      <td>Atlantic City, New Jersey</td>\n",
       "      <td>Military - U.S. Navy</td>\n",
       "      <td>Dirigible</td>\n",
       "      <td>5</td>\n",
       "      <td>0</td>\n",
       "      <td>5</td>\n",
       "      <td>5</td>\n",
       "      <td>0</td>\n",
       "      <td>5</td>\n",
       "    </tr>\n",
       "  </tbody>\n",
       "</table>\n",
       "</div>"
      ],
      "text/plain": [
       "   crash_Id        date                      route              operator  \\\n",
       "0         0  1908-09-17        Fort Myer, Virginia  Military - U.S. Army   \n",
       "1         1  1909-09-07    Juvisy-sur-Orge, France                   NaN   \n",
       "2         2  1912-07-12  Atlantic City, New Jersey  Military - U.S. Navy   \n",
       "\n",
       "      aircraft_type all_aboard passangers_onboard crew_aboard deaths_number  \\\n",
       "0  Wright Flyer III          2                  1           1             1   \n",
       "1    Wright Byplane          1                  0           1             1   \n",
       "2         Dirigible          5                  0           5             5   \n",
       "\n",
       "  passenger_fatalities crew_fatalities  \n",
       "0                    1               0  \n",
       "1                    0               0  \n",
       "2                    0               5  "
      ]
     },
     "execution_count": 956,
     "metadata": {},
     "output_type": "execute_result"
    }
   ],
   "source": [
    "df_plane = df_plane.rename(columns={'Unnamed: 0': 'crash_Id',\n",
    "                        'fecha': 'date',\n",
    "                        'Ruta': 'route',\n",
    "                        'OperadOR': 'operator',\n",
    "                        'ac_type': 'aircraft_type',\n",
    "                        'PASAJEROS A BORDO': 'passangers_onboard',\n",
    "                        'cantidad de fallecidos': 'deaths_number'})\n",
    "\n",
    "df_plane.head(3)"
   ]
  },
  {
   "cell_type": "code",
   "execution_count": 957,
   "metadata": {},
   "outputs": [
    {
     "data": {
      "text/plain": [
       "(4765, 11)"
      ]
     },
     "execution_count": 957,
     "metadata": {},
     "output_type": "execute_result"
    }
   ],
   "source": [
    "df_plane.shape"
   ]
  },
  {
   "cell_type": "code",
   "execution_count": 958,
   "metadata": {},
   "outputs": [],
   "source": [
    "df_plane.to_csv('airplaneCrashes.csv', sep=',', index=False)"
   ]
  },
  {
   "cell_type": "markdown",
   "metadata": {},
   "source": [
    "## Lunar cycle dataset"
   ]
  },
  {
   "cell_type": "code",
   "execution_count": 1,
   "metadata": {},
   "outputs": [],
   "source": [
    "import pandas as pd"
   ]
  },
  {
   "cell_type": "code",
   "execution_count": 2,
   "metadata": {},
   "outputs": [],
   "source": [
    "df_moon = pd.read_excel('./Lunar Cycle 1900-2022 Mountain View California Timezone.xlsx')"
   ]
  },
  {
   "cell_type": "code",
   "execution_count": 11,
   "metadata": {},
   "outputs": [
    {
     "name": "stdout",
     "output_type": "stream",
     "text": [
      "<class 'pandas.core.frame.DataFrame'>\n",
      "Int64Index: 1523 entries, 0 to 1522\n",
      "Data columns (total 4 columns):\n",
      " #   Column               Non-Null Count  Dtype         \n",
      "---  ------               --------------  -----         \n",
      " 0   new moons            1523 non-null   datetime64[ns]\n",
      " 1   first quarter moon   1523 non-null   datetime64[ns]\n",
      " 2   full moons           1523 non-null   datetime64[ns]\n",
      " 3   third quarter moons  1523 non-null   datetime64[ns]\n",
      "dtypes: datetime64[ns](4)\n",
      "memory usage: 59.5 KB\n"
     ]
    }
   ],
   "source": [
    "df_moon.info()\n"
   ]
  },
  {
   "cell_type": "code",
   "execution_count": 10,
   "metadata": {},
   "outputs": [],
   "source": [
    "df_moon = df_moon.dropna()"
   ]
  }
 ],
 "metadata": {
  "kernelspec": {
   "display_name": "Python 3.10.6 64-bit",
   "language": "python",
   "name": "python3"
  },
  "language_info": {
   "codemirror_mode": {
    "name": "ipython",
    "version": 3
   },
   "file_extension": ".py",
   "mimetype": "text/x-python",
   "name": "python",
   "nbconvert_exporter": "python",
   "pygments_lexer": "ipython3",
   "version": "3.10.6"
  },
  "orig_nbformat": 4,
  "vscode": {
   "interpreter": {
    "hash": "4db17ef6f8887cb993e09c38e82fe60608247a34739cc8dffe3498b61f09b64b"
   }
  }
 },
 "nbformat": 4,
 "nbformat_minor": 2
}
