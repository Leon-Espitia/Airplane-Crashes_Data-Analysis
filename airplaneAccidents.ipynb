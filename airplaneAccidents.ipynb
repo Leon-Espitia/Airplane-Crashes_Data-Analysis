{
 "cells": [
  {
   "cell_type": "code",
   "execution_count": 1,
   "metadata": {},
   "outputs": [],
   "source": [
    "import pandas as pd"
   ]
  },
  {
   "cell_type": "code",
   "execution_count": 15,
   "metadata": {},
   "outputs": [
    {
     "data": {
      "text/plain": [
       "(5008, 18)"
      ]
     },
     "execution_count": 15,
     "metadata": {},
     "output_type": "execute_result"
    }
   ],
   "source": [
    "df_plane = pd.read_csv('./AccidentesAviones.csv')\n",
    "df_plane.shape\n"
   ]
  },
  {
   "cell_type": "code",
   "execution_count": 32,
   "metadata": {},
   "outputs": [
    {
     "name": "stdout",
     "output_type": "stream",
     "text": [
      "<class 'pandas.core.frame.DataFrame'>\n",
      "RangeIndex: 5008 entries, 0 to 5007\n",
      "Data columns (total 16 columns):\n",
      " #   Column                  Non-Null Count  Dtype         \n",
      "---  ------                  --------------  -----         \n",
      " 0   Unnamed: 0              5008 non-null   int64         \n",
      " 1   fecha                   5008 non-null   datetime64[ns]\n",
      " 2   Ruta                    5008 non-null   string        \n",
      " 3   OperadOR                5008 non-null   string        \n",
      " 4   route                   5008 non-null   object        \n",
      " 5   ac_type                 5008 non-null   object        \n",
      " 6   registration            5008 non-null   object        \n",
      " 7   cn_ln                   5008 non-null   object        \n",
      " 8   all_aboard              5008 non-null   object        \n",
      " 9   PASAJEROS A BORDO       5008 non-null   object        \n",
      " 10  crew_aboard             5008 non-null   object        \n",
      " 11  cantidad de fallecidos  5008 non-null   object        \n",
      " 12  passenger_fatalities    5008 non-null   object        \n",
      " 13  crew_fatalities         5008 non-null   object        \n",
      " 14  ground                  5008 non-null   object        \n",
      " 15  summary                 5008 non-null   object        \n",
      "dtypes: datetime64[ns](1), int64(1), object(12), string(2)\n",
      "memory usage: 626.1+ KB\n"
     ]
    }
   ],
   "source": [
    "df_plane.info()"
   ]
  },
  {
   "cell_type": "code",
   "execution_count": 17,
   "metadata": {},
   "outputs": [
    {
     "data": {
      "text/html": [
       "<div>\n",
       "<style scoped>\n",
       "    .dataframe tbody tr th:only-of-type {\n",
       "        vertical-align: middle;\n",
       "    }\n",
       "\n",
       "    .dataframe tbody tr th {\n",
       "        vertical-align: top;\n",
       "    }\n",
       "\n",
       "    .dataframe thead th {\n",
       "        text-align: right;\n",
       "    }\n",
       "</style>\n",
       "<table border=\"1\" class=\"dataframe\">\n",
       "  <thead>\n",
       "    <tr style=\"text-align: right;\">\n",
       "      <th></th>\n",
       "      <th>Unnamed: 0</th>\n",
       "      <th>fecha</th>\n",
       "      <th>HORA declarada</th>\n",
       "      <th>Ruta</th>\n",
       "      <th>OperadOR</th>\n",
       "      <th>flight_no</th>\n",
       "      <th>route</th>\n",
       "      <th>ac_type</th>\n",
       "      <th>registration</th>\n",
       "      <th>cn_ln</th>\n",
       "      <th>all_aboard</th>\n",
       "      <th>PASAJEROS A BORDO</th>\n",
       "      <th>crew_aboard</th>\n",
       "      <th>cantidad de fallecidos</th>\n",
       "      <th>passenger_fatalities</th>\n",
       "      <th>crew_fatalities</th>\n",
       "      <th>ground</th>\n",
       "      <th>summary</th>\n",
       "    </tr>\n",
       "  </thead>\n",
       "  <tbody>\n",
       "    <tr>\n",
       "      <th>0</th>\n",
       "      <td>0</td>\n",
       "      <td>September 17, 1908</td>\n",
       "      <td>1718</td>\n",
       "      <td>Fort Myer, Virginia</td>\n",
       "      <td>Military - U.S. Army</td>\n",
       "      <td>?</td>\n",
       "      <td>Demonstration</td>\n",
       "      <td>Wright Flyer III</td>\n",
       "      <td>?</td>\n",
       "      <td>1</td>\n",
       "      <td>2</td>\n",
       "      <td>1</td>\n",
       "      <td>1</td>\n",
       "      <td>1</td>\n",
       "      <td>1</td>\n",
       "      <td>0</td>\n",
       "      <td>0</td>\n",
       "      <td>During a demonstration flight, a U.S. Army fly...</td>\n",
       "    </tr>\n",
       "    <tr>\n",
       "      <th>1</th>\n",
       "      <td>1</td>\n",
       "      <td>September 07, 1909</td>\n",
       "      <td>?</td>\n",
       "      <td>Juvisy-sur-Orge, France</td>\n",
       "      <td>?</td>\n",
       "      <td>?</td>\n",
       "      <td>Air show</td>\n",
       "      <td>Wright Byplane</td>\n",
       "      <td>SC1</td>\n",
       "      <td>?</td>\n",
       "      <td>1</td>\n",
       "      <td>0</td>\n",
       "      <td>1</td>\n",
       "      <td>1</td>\n",
       "      <td>0</td>\n",
       "      <td>0</td>\n",
       "      <td>0</td>\n",
       "      <td>Eugene Lefebvre was the first pilot to ever be...</td>\n",
       "    </tr>\n",
       "    <tr>\n",
       "      <th>2</th>\n",
       "      <td>2</td>\n",
       "      <td>July 12, 1912</td>\n",
       "      <td>0630</td>\n",
       "      <td>Atlantic City, New Jersey</td>\n",
       "      <td>Military - U.S. Navy</td>\n",
       "      <td>?</td>\n",
       "      <td>Test flight</td>\n",
       "      <td>Dirigible</td>\n",
       "      <td>?</td>\n",
       "      <td>?</td>\n",
       "      <td>5</td>\n",
       "      <td>0</td>\n",
       "      <td>5</td>\n",
       "      <td>5</td>\n",
       "      <td>0</td>\n",
       "      <td>5</td>\n",
       "      <td>0</td>\n",
       "      <td>First U.S. dirigible Akron exploded just offsh...</td>\n",
       "    </tr>\n",
       "  </tbody>\n",
       "</table>\n",
       "</div>"
      ],
      "text/plain": [
       "   Unnamed: 0               fecha HORA declarada                       Ruta  \\\n",
       "0           0  September 17, 1908           1718        Fort Myer, Virginia   \n",
       "1           1  September 07, 1909              ?    Juvisy-sur-Orge, France   \n",
       "2           2       July 12, 1912           0630  Atlantic City, New Jersey   \n",
       "\n",
       "               OperadOR flight_no          route           ac_type  \\\n",
       "0  Military - U.S. Army         ?  Demonstration  Wright Flyer III   \n",
       "1                     ?         ?       Air show    Wright Byplane   \n",
       "2  Military - U.S. Navy         ?    Test flight         Dirigible   \n",
       "\n",
       "  registration cn_ln all_aboard PASAJEROS A BORDO crew_aboard  \\\n",
       "0            ?     1          2                 1           1   \n",
       "1          SC1     ?          1                 0           1   \n",
       "2            ?     ?          5                 0           5   \n",
       "\n",
       "  cantidad de fallecidos passenger_fatalities crew_fatalities ground  \\\n",
       "0                      1                    1               0      0   \n",
       "1                      1                    0               0      0   \n",
       "2                      5                    0               5      0   \n",
       "\n",
       "                                             summary  \n",
       "0  During a demonstration flight, a U.S. Army fly...  \n",
       "1  Eugene Lefebvre was the first pilot to ever be...  \n",
       "2  First U.S. dirigible Akron exploded just offsh...  "
      ]
     },
     "execution_count": 17,
     "metadata": {},
     "output_type": "execute_result"
    }
   ],
   "source": [
    "df_plane.head(3)"
   ]
  },
  {
   "cell_type": "markdown",
   "metadata": {},
   "source": [
    "## EDA"
   ]
  },
  {
   "cell_type": "code",
   "execution_count": 19,
   "metadata": {},
   "outputs": [],
   "source": [
    "# Replacing values\n",
    "df_plane = df_plane.replace('?', 'NaN')"
   ]
  },
  {
   "cell_type": "markdown",
   "metadata": {},
   "source": [
    "Dropping columns"
   ]
  },
  {
   "cell_type": "code",
   "execution_count": null,
   "metadata": {},
   "outputs": [],
   "source": [
    "# Checking column amount of 'NaN' values\n",
    "df_plane['HORA declarada'].value_counts()"
   ]
  },
  {
   "cell_type": "code",
   "execution_count": 24,
   "metadata": {},
   "outputs": [],
   "source": [
    "# Based on the previous column´s values analysis\n",
    "df_plane = df_plane.drop(columns='HORA declarada')"
   ]
  },
  {
   "cell_type": "code",
   "execution_count": null,
   "metadata": {},
   "outputs": [],
   "source": [
    "# Checking column amount of 'NaN' values\n",
    "df_plane['flight_no'].value_counts()"
   ]
  },
  {
   "cell_type": "code",
   "execution_count": 25,
   "metadata": {},
   "outputs": [],
   "source": [
    "# Based on the previous column´s values analysis\n",
    "df_plane = df_plane.drop(columns='flight_no')"
   ]
  },
  {
   "cell_type": "code",
   "execution_count": 84,
   "metadata": {},
   "outputs": [],
   "source": [
    "# Drop this column because is not relevant in my case of analysis\n",
    "df_plane = df_plane.drop(columns='cn_ln')"
   ]
  },
  {
   "cell_type": "code",
   "execution_count": 90,
   "metadata": {},
   "outputs": [],
   "source": [
    "# Drop this column because is not relevant in my case of analysis\n",
    "df_plane = df_plane.drop(columns='ground')"
   ]
  },
  {
   "cell_type": "markdown",
   "metadata": {},
   "source": [
    "Changing data type"
   ]
  },
  {
   "cell_type": "code",
   "execution_count": 27,
   "metadata": {},
   "outputs": [],
   "source": [
    "# Switching column data type\n",
    "df_plane['fecha'] = pd.to_datetime(df_plane['fecha'])"
   ]
  },
  {
   "cell_type": "code",
   "execution_count": 29,
   "metadata": {},
   "outputs": [],
   "source": [
    "# Switching column data type\n",
    "df_plane['Ruta'] =df_plane['Ruta'].astype('string')"
   ]
  },
  {
   "cell_type": "code",
   "execution_count": 30,
   "metadata": {},
   "outputs": [],
   "source": [
    "# Switching column data type\n",
    "df_plane['OperadOR'] =df_plane['OperadOR'].astype('string')"
   ]
  },
  {
   "cell_type": "code",
   "execution_count": 79,
   "metadata": {},
   "outputs": [],
   "source": [
    "df_plane['crew_aboard'] =df_plane['crew_aboard'].astype('string')"
   ]
  },
  {
   "cell_type": "code",
   "execution_count": 99,
   "metadata": {},
   "outputs": [
    {
     "data": {
      "text/html": [
       "<div>\n",
       "<style scoped>\n",
       "    .dataframe tbody tr th:only-of-type {\n",
       "        vertical-align: middle;\n",
       "    }\n",
       "\n",
       "    .dataframe tbody tr th {\n",
       "        vertical-align: top;\n",
       "    }\n",
       "\n",
       "    .dataframe thead th {\n",
       "        text-align: right;\n",
       "    }\n",
       "</style>\n",
       "<table border=\"1\" class=\"dataframe\">\n",
       "  <thead>\n",
       "    <tr style=\"text-align: right;\">\n",
       "      <th></th>\n",
       "      <th>Unnamed: 0</th>\n",
       "      <th>fecha</th>\n",
       "      <th>Ruta</th>\n",
       "      <th>OperadOR</th>\n",
       "      <th>route</th>\n",
       "      <th>ac_type</th>\n",
       "      <th>registration</th>\n",
       "      <th>all_aboard</th>\n",
       "      <th>PASAJEROS A BORDO</th>\n",
       "      <th>crew_aboard</th>\n",
       "      <th>cantidad de fallecidos</th>\n",
       "      <th>passenger_fatalities</th>\n",
       "      <th>crew_fatalities</th>\n",
       "      <th>summary</th>\n",
       "    </tr>\n",
       "  </thead>\n",
       "  <tbody>\n",
       "    <tr>\n",
       "      <th>0</th>\n",
       "      <td>0</td>\n",
       "      <td>1908-09-17</td>\n",
       "      <td>Fort Myer, Virginia</td>\n",
       "      <td>Military - U.S. Army</td>\n",
       "      <td>Demonstration</td>\n",
       "      <td>Wright Flyer III</td>\n",
       "      <td>NaN</td>\n",
       "      <td>2</td>\n",
       "      <td>1</td>\n",
       "      <td>1</td>\n",
       "      <td>1</td>\n",
       "      <td>1</td>\n",
       "      <td>0</td>\n",
       "      <td>During a demonstration flight, a U.S. Army fly...</td>\n",
       "    </tr>\n",
       "    <tr>\n",
       "      <th>1</th>\n",
       "      <td>1</td>\n",
       "      <td>1909-09-07</td>\n",
       "      <td>Juvisy-sur-Orge, France</td>\n",
       "      <td>NaN</td>\n",
       "      <td>Air show</td>\n",
       "      <td>Wright Byplane</td>\n",
       "      <td>SC1</td>\n",
       "      <td>1</td>\n",
       "      <td>0</td>\n",
       "      <td>1</td>\n",
       "      <td>1</td>\n",
       "      <td>0</td>\n",
       "      <td>0</td>\n",
       "      <td>Eugene Lefebvre was the first pilot to ever be...</td>\n",
       "    </tr>\n",
       "    <tr>\n",
       "      <th>2</th>\n",
       "      <td>2</td>\n",
       "      <td>1912-07-12</td>\n",
       "      <td>Atlantic City, New Jersey</td>\n",
       "      <td>Military - U.S. Navy</td>\n",
       "      <td>Test flight</td>\n",
       "      <td>Dirigible</td>\n",
       "      <td>NaN</td>\n",
       "      <td>5</td>\n",
       "      <td>0</td>\n",
       "      <td>5</td>\n",
       "      <td>5</td>\n",
       "      <td>0</td>\n",
       "      <td>5</td>\n",
       "      <td>First U.S. dirigible Akron exploded just offsh...</td>\n",
       "    </tr>\n",
       "  </tbody>\n",
       "</table>\n",
       "</div>"
      ],
      "text/plain": [
       "   Unnamed: 0      fecha                       Ruta              OperadOR  \\\n",
       "0           0 1908-09-17        Fort Myer, Virginia  Military - U.S. Army   \n",
       "1           1 1909-09-07    Juvisy-sur-Orge, France                   NaN   \n",
       "2           2 1912-07-12  Atlantic City, New Jersey  Military - U.S. Navy   \n",
       "\n",
       "           route           ac_type registration  all_aboard PASAJEROS A BORDO  \\\n",
       "0  Demonstration  Wright Flyer III          NaN           2                 1   \n",
       "1       Air show    Wright Byplane          SC1           1                 0   \n",
       "2    Test flight         Dirigible          NaN           5                 0   \n",
       "\n",
       "  crew_aboard cantidad de fallecidos passenger_fatalities crew_fatalities  \\\n",
       "0           1                      1                    1               0   \n",
       "1           1                      1                    0               0   \n",
       "2           5                      5                    0               5   \n",
       "\n",
       "                                             summary  \n",
       "0  During a demonstration flight, a U.S. Army fly...  \n",
       "1  Eugene Lefebvre was the first pilot to ever be...  \n",
       "2  First U.S. dirigible Akron exploded just offsh...  "
      ]
     },
     "execution_count": 99,
     "metadata": {},
     "output_type": "execute_result"
    }
   ],
   "source": [
    "df_plane.head(3)"
   ]
  },
  {
   "cell_type": "code",
   "execution_count": 47,
   "metadata": {},
   "outputs": [],
   "source": [
    "# Replace column 'NaN' to enable next step\n",
    "df_plane['all_aboard'] = df_plane['all_aboard'].replace('NaN', ' ')"
   ]
  },
  {
   "cell_type": "code",
   "execution_count": 62,
   "metadata": {},
   "outputs": [],
   "source": [
    "# Parsing column data type\n",
    "df_plane['all_aboard'] = df_plane['all_aboard'].astype(int)"
   ]
  },
  {
   "cell_type": "code",
   "execution_count": 61,
   "metadata": {},
   "outputs": [],
   "source": [
    "# Drop 'NaN' rows\n",
    "df_plane.drop(df_plane[df_plane['ground'] == 'NaN'].index, inplace=True)"
   ]
  },
  {
   "cell_type": "code",
   "execution_count": 92,
   "metadata": {},
   "outputs": [
    {
     "data": {
      "text/plain": [
       "(4964, 14)"
      ]
     },
     "execution_count": 92,
     "metadata": {},
     "output_type": "execute_result"
    }
   ],
   "source": [
    "df_plane.shape"
   ]
  },
  {
   "cell_type": "code",
   "execution_count": 93,
   "metadata": {},
   "outputs": [
    {
     "name": "stdout",
     "output_type": "stream",
     "text": [
      "<class 'pandas.core.frame.DataFrame'>\n",
      "Int64Index: 4964 entries, 0 to 5007\n",
      "Data columns (total 14 columns):\n",
      " #   Column                  Non-Null Count  Dtype         \n",
      "---  ------                  --------------  -----         \n",
      " 0   Unnamed: 0              4964 non-null   int64         \n",
      " 1   fecha                   4964 non-null   datetime64[ns]\n",
      " 2   Ruta                    4964 non-null   string        \n",
      " 3   OperadOR                4964 non-null   string        \n",
      " 4   route                   4964 non-null   object        \n",
      " 5   ac_type                 4964 non-null   object        \n",
      " 6   registration            4964 non-null   object        \n",
      " 7   all_aboard              4964 non-null   int32         \n",
      " 8   PASAJEROS A BORDO       4964 non-null   object        \n",
      " 9   crew_aboard             4964 non-null   string        \n",
      " 10  cantidad de fallecidos  4964 non-null   object        \n",
      " 11  passenger_fatalities    4964 non-null   object        \n",
      " 12  crew_fatalities         4964 non-null   object        \n",
      " 13  summary                 4964 non-null   object        \n",
      "dtypes: datetime64[ns](1), int32(1), int64(1), object(8), string(3)\n",
      "memory usage: 562.3+ KB\n"
     ]
    }
   ],
   "source": [
    "df_plane.info()"
   ]
  },
  {
   "cell_type": "code",
   "execution_count": 89,
   "metadata": {},
   "outputs": [
    {
     "data": {
      "text/plain": [
       "Index(['Unnamed: 0', 'fecha', 'Ruta', 'OperadOR', 'route', 'ac_type',\n",
       "       'registration', 'all_aboard', 'PASAJEROS A BORDO', 'crew_aboard',\n",
       "       'cantidad de fallecidos', 'passenger_fatalities', 'crew_fatalities',\n",
       "       'ground', 'summary'],\n",
       "      dtype='object')"
      ]
     },
     "execution_count": 89,
     "metadata": {},
     "output_type": "execute_result"
    }
   ],
   "source": [
    "df_plane.columns"
   ]
  },
  {
   "cell_type": "code",
   "execution_count": 95,
   "metadata": {},
   "outputs": [
    {
     "data": {
      "text/html": [
       "<div>\n",
       "<style scoped>\n",
       "    .dataframe tbody tr th:only-of-type {\n",
       "        vertical-align: middle;\n",
       "    }\n",
       "\n",
       "    .dataframe tbody tr th {\n",
       "        vertical-align: top;\n",
       "    }\n",
       "\n",
       "    .dataframe thead th {\n",
       "        text-align: right;\n",
       "    }\n",
       "</style>\n",
       "<table border=\"1\" class=\"dataframe\">\n",
       "  <thead>\n",
       "    <tr style=\"text-align: right;\">\n",
       "      <th></th>\n",
       "      <th>crash_Id</th>\n",
       "      <th>fecha</th>\n",
       "      <th>route</th>\n",
       "      <th>operator</th>\n",
       "      <th>purpose</th>\n",
       "      <th>aircraft_type</th>\n",
       "      <th>registration</th>\n",
       "      <th>all_aboard</th>\n",
       "      <th>passangers_onboard</th>\n",
       "      <th>crew_aboard</th>\n",
       "      <th>deaths_number</th>\n",
       "      <th>passenger_fatalities</th>\n",
       "      <th>crew_fatalities</th>\n",
       "      <th>summary</th>\n",
       "    </tr>\n",
       "  </thead>\n",
       "  <tbody>\n",
       "    <tr>\n",
       "      <th>0</th>\n",
       "      <td>0</td>\n",
       "      <td>1908-09-17</td>\n",
       "      <td>Fort Myer, Virginia</td>\n",
       "      <td>Military - U.S. Army</td>\n",
       "      <td>Demonstration</td>\n",
       "      <td>Wright Flyer III</td>\n",
       "      <td>NaN</td>\n",
       "      <td>2</td>\n",
       "      <td>1</td>\n",
       "      <td>1</td>\n",
       "      <td>1</td>\n",
       "      <td>1</td>\n",
       "      <td>0</td>\n",
       "      <td>During a demonstration flight, a U.S. Army fly...</td>\n",
       "    </tr>\n",
       "    <tr>\n",
       "      <th>1</th>\n",
       "      <td>1</td>\n",
       "      <td>1909-09-07</td>\n",
       "      <td>Juvisy-sur-Orge, France</td>\n",
       "      <td>NaN</td>\n",
       "      <td>Air show</td>\n",
       "      <td>Wright Byplane</td>\n",
       "      <td>SC1</td>\n",
       "      <td>1</td>\n",
       "      <td>0</td>\n",
       "      <td>1</td>\n",
       "      <td>1</td>\n",
       "      <td>0</td>\n",
       "      <td>0</td>\n",
       "      <td>Eugene Lefebvre was the first pilot to ever be...</td>\n",
       "    </tr>\n",
       "    <tr>\n",
       "      <th>2</th>\n",
       "      <td>2</td>\n",
       "      <td>1912-07-12</td>\n",
       "      <td>Atlantic City, New Jersey</td>\n",
       "      <td>Military - U.S. Navy</td>\n",
       "      <td>Test flight</td>\n",
       "      <td>Dirigible</td>\n",
       "      <td>NaN</td>\n",
       "      <td>5</td>\n",
       "      <td>0</td>\n",
       "      <td>5</td>\n",
       "      <td>5</td>\n",
       "      <td>0</td>\n",
       "      <td>5</td>\n",
       "      <td>First U.S. dirigible Akron exploded just offsh...</td>\n",
       "    </tr>\n",
       "    <tr>\n",
       "      <th>3</th>\n",
       "      <td>3</td>\n",
       "      <td>1913-08-06</td>\n",
       "      <td>Victoria, British Columbia, Canada</td>\n",
       "      <td>Private</td>\n",
       "      <td>NaN</td>\n",
       "      <td>Curtiss seaplane</td>\n",
       "      <td>NaN</td>\n",
       "      <td>1</td>\n",
       "      <td>0</td>\n",
       "      <td>1</td>\n",
       "      <td>1</td>\n",
       "      <td>0</td>\n",
       "      <td>1</td>\n",
       "      <td>The first fatal airplane accident in Canada oc...</td>\n",
       "    </tr>\n",
       "    <tr>\n",
       "      <th>4</th>\n",
       "      <td>4</td>\n",
       "      <td>1913-09-09</td>\n",
       "      <td>Over the North Sea</td>\n",
       "      <td>Military - German Navy</td>\n",
       "      <td>NaN</td>\n",
       "      <td>Zeppelin L-1 (airship)</td>\n",
       "      <td>NaN</td>\n",
       "      <td>20</td>\n",
       "      <td>NaN</td>\n",
       "      <td>NaN</td>\n",
       "      <td>14</td>\n",
       "      <td>NaN</td>\n",
       "      <td>NaN</td>\n",
       "      <td>The airship flew into a thunderstorm and encou...</td>\n",
       "    </tr>\n",
       "    <tr>\n",
       "      <th>...</th>\n",
       "      <td>...</td>\n",
       "      <td>...</td>\n",
       "      <td>...</td>\n",
       "      <td>...</td>\n",
       "      <td>...</td>\n",
       "      <td>...</td>\n",
       "      <td>...</td>\n",
       "      <td>...</td>\n",
       "      <td>...</td>\n",
       "      <td>...</td>\n",
       "      <td>...</td>\n",
       "      <td>...</td>\n",
       "      <td>...</td>\n",
       "      <td>...</td>\n",
       "    </tr>\n",
       "    <tr>\n",
       "      <th>5003</th>\n",
       "      <td>5003</td>\n",
       "      <td>2021-03-28</td>\n",
       "      <td>Near Butte, Alaska</td>\n",
       "      <td>Soloy Helicopters</td>\n",
       "      <td>Sightseeing Charter</td>\n",
       "      <td>Eurocopter AS350B3 Ecureuil</td>\n",
       "      <td>N351SH</td>\n",
       "      <td>6</td>\n",
       "      <td>5</td>\n",
       "      <td>1</td>\n",
       "      <td>5</td>\n",
       "      <td>4</td>\n",
       "      <td>1</td>\n",
       "      <td>The sightseeing helicopter crashed after missi...</td>\n",
       "    </tr>\n",
       "    <tr>\n",
       "      <th>5004</th>\n",
       "      <td>5004</td>\n",
       "      <td>2021-05-21</td>\n",
       "      <td>Near Kaduna, Nigeria</td>\n",
       "      <td>Military - Nigerian Air Force</td>\n",
       "      <td>NaN</td>\n",
       "      <td>Beechcraft B300 King Air 350i</td>\n",
       "      <td>NAF203</td>\n",
       "      <td>11</td>\n",
       "      <td>7</td>\n",
       "      <td>4</td>\n",
       "      <td>11</td>\n",
       "      <td>7</td>\n",
       "      <td>4</td>\n",
       "      <td>While on final approach, in poor weather condi...</td>\n",
       "    </tr>\n",
       "    <tr>\n",
       "      <th>5005</th>\n",
       "      <td>5005</td>\n",
       "      <td>2021-06-10</td>\n",
       "      <td>Near Pyin Oo Lwin, Myanmar</td>\n",
       "      <td>Military - Myanmar Air Force</td>\n",
       "      <td>Naypyidaw - Anisakan</td>\n",
       "      <td>Beechcraft 1900D</td>\n",
       "      <td>4610</td>\n",
       "      <td>14</td>\n",
       "      <td>12</td>\n",
       "      <td>2</td>\n",
       "      <td>12</td>\n",
       "      <td>11</td>\n",
       "      <td>1</td>\n",
       "      <td>The plane was carrying military personnel and ...</td>\n",
       "    </tr>\n",
       "    <tr>\n",
       "      <th>5006</th>\n",
       "      <td>5006</td>\n",
       "      <td>2021-07-04</td>\n",
       "      <td>Patikul, Sulu, Philippines</td>\n",
       "      <td>Military - Philippine Air Force</td>\n",
       "      <td>Cagayan de Oro-Lumbia - Jolo</td>\n",
       "      <td>Lockheed C-130H Hercules</td>\n",
       "      <td>5125</td>\n",
       "      <td>96</td>\n",
       "      <td>88</td>\n",
       "      <td>8</td>\n",
       "      <td>50</td>\n",
       "      <td>NaN</td>\n",
       "      <td>NaN</td>\n",
       "      <td>While attempting to land at Jolo Airport, the ...</td>\n",
       "    </tr>\n",
       "    <tr>\n",
       "      <th>5007</th>\n",
       "      <td>5007</td>\n",
       "      <td>2021-07-06</td>\n",
       "      <td>Palana, Russia</td>\n",
       "      <td>Kamchatka Aviation Enterprise</td>\n",
       "      <td>Petropavlovsk - Palana</td>\n",
       "      <td>Antonov An 26B-100</td>\n",
       "      <td>RA-26085</td>\n",
       "      <td>28</td>\n",
       "      <td>22</td>\n",
       "      <td>6</td>\n",
       "      <td>28</td>\n",
       "      <td>22</td>\n",
       "      <td>6</td>\n",
       "      <td>The passenger plane crashed into the top of a ...</td>\n",
       "    </tr>\n",
       "  </tbody>\n",
       "</table>\n",
       "<p>4964 rows × 14 columns</p>\n",
       "</div>"
      ],
      "text/plain": [
       "      crash_Id      fecha                               route  \\\n",
       "0            0 1908-09-17                 Fort Myer, Virginia   \n",
       "1            1 1909-09-07             Juvisy-sur-Orge, France   \n",
       "2            2 1912-07-12           Atlantic City, New Jersey   \n",
       "3            3 1913-08-06  Victoria, British Columbia, Canada   \n",
       "4            4 1913-09-09                  Over the North Sea   \n",
       "...        ...        ...                                 ...   \n",
       "5003      5003 2021-03-28                  Near Butte, Alaska   \n",
       "5004      5004 2021-05-21                Near Kaduna, Nigeria   \n",
       "5005      5005 2021-06-10          Near Pyin Oo Lwin, Myanmar   \n",
       "5006      5006 2021-07-04          Patikul, Sulu, Philippines   \n",
       "5007      5007 2021-07-06                      Palana, Russia   \n",
       "\n",
       "                             operator                       purpose  \\\n",
       "0                Military - U.S. Army                 Demonstration   \n",
       "1                                 NaN                      Air show   \n",
       "2                Military - U.S. Navy                   Test flight   \n",
       "3                             Private                           NaN   \n",
       "4              Military - German Navy                           NaN   \n",
       "...                               ...                           ...   \n",
       "5003                Soloy Helicopters           Sightseeing Charter   \n",
       "5004    Military - Nigerian Air Force                           NaN   \n",
       "5005     Military - Myanmar Air Force          Naypyidaw - Anisakan   \n",
       "5006  Military - Philippine Air Force  Cagayan de Oro-Lumbia - Jolo   \n",
       "5007    Kamchatka Aviation Enterprise        Petropavlovsk - Palana   \n",
       "\n",
       "                      aircraft_type registration  all_aboard  \\\n",
       "0                  Wright Flyer III          NaN           2   \n",
       "1                    Wright Byplane          SC1           1   \n",
       "2                         Dirigible          NaN           5   \n",
       "3                  Curtiss seaplane          NaN           1   \n",
       "4            Zeppelin L-1 (airship)          NaN          20   \n",
       "...                             ...          ...         ...   \n",
       "5003    Eurocopter AS350B3 Ecureuil       N351SH           6   \n",
       "5004  Beechcraft B300 King Air 350i       NAF203          11   \n",
       "5005               Beechcraft 1900D         4610          14   \n",
       "5006       Lockheed C-130H Hercules         5125          96   \n",
       "5007             Antonov An 26B-100     RA-26085          28   \n",
       "\n",
       "     passangers_onboard crew_aboard deaths_number passenger_fatalities  \\\n",
       "0                     1           1             1                    1   \n",
       "1                     0           1             1                    0   \n",
       "2                     0           5             5                    0   \n",
       "3                     0           1             1                    0   \n",
       "4                   NaN         NaN            14                  NaN   \n",
       "...                 ...         ...           ...                  ...   \n",
       "5003                  5           1             5                    4   \n",
       "5004                  7           4            11                    7   \n",
       "5005                 12           2            12                   11   \n",
       "5006                 88           8            50                  NaN   \n",
       "5007                 22           6            28                   22   \n",
       "\n",
       "     crew_fatalities                                            summary  \n",
       "0                  0  During a demonstration flight, a U.S. Army fly...  \n",
       "1                  0  Eugene Lefebvre was the first pilot to ever be...  \n",
       "2                  5  First U.S. dirigible Akron exploded just offsh...  \n",
       "3                  1  The first fatal airplane accident in Canada oc...  \n",
       "4                NaN  The airship flew into a thunderstorm and encou...  \n",
       "...              ...                                                ...  \n",
       "5003               1  The sightseeing helicopter crashed after missi...  \n",
       "5004               4  While on final approach, in poor weather condi...  \n",
       "5005               1  The plane was carrying military personnel and ...  \n",
       "5006             NaN  While attempting to land at Jolo Airport, the ...  \n",
       "5007               6  The passenger plane crashed into the top of a ...  \n",
       "\n",
       "[4964 rows x 14 columns]"
      ]
     },
     "execution_count": 95,
     "metadata": {},
     "output_type": "execute_result"
    }
   ],
   "source": [
    "df_plane.rename(columns={'Unnamed: 0': 'crash_Id',\n",
    "                        'Ruta': 'route',\n",
    "                        'OperadOR': 'operator',\n",
    "                        'route': 'purpose',\n",
    "                        'ac_type': 'aircraft_type',\n",
    "                        'PASAJEROS A BORDO': 'passangers_onboard',\n",
    "                        'cantidad de fallecidos': 'deaths_number',\n",
    "\n",
    "})"
   ]
  },
  {
   "cell_type": "code",
   "execution_count": 96,
   "metadata": {},
   "outputs": [],
   "source": [
    "df_plane.to_csv('airplaneCrashes.csv')"
   ]
  }
 ],
 "metadata": {
  "kernelspec": {
   "display_name": "Python 3.10.6 64-bit",
   "language": "python",
   "name": "python3"
  },
  "language_info": {
   "codemirror_mode": {
    "name": "ipython",
    "version": 3
   },
   "file_extension": ".py",
   "mimetype": "text/x-python",
   "name": "python",
   "nbconvert_exporter": "python",
   "pygments_lexer": "ipython3",
   "version": "3.10.6"
  },
  "orig_nbformat": 4,
  "vscode": {
   "interpreter": {
    "hash": "4db17ef6f8887cb993e09c38e82fe60608247a34739cc8dffe3498b61f09b64b"
   }
  }
 },
 "nbformat": 4,
 "nbformat_minor": 2
}
